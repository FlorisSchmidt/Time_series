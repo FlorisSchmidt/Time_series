{
 "metadata": {
  "language_info": {
   "codemirror_mode": {
    "name": "ipython",
    "version": 3
   },
   "file_extension": ".py",
   "mimetype": "text/x-python",
   "name": "python",
   "nbconvert_exporter": "python",
   "pygments_lexer": "ipython3",
   "version": "3.8.3-final"
  },
  "orig_nbformat": 2,
  "kernelspec": {
   "name": "python3",
   "display_name": "Python 3"
  }
 },
 "nbformat": 4,
 "nbformat_minor": 2,
 "cells": [
  {
   "cell_type": "code",
   "execution_count": 14,
   "metadata": {
    "tags": []
   },
   "outputs": [],
   "source": [
    "import pandas as pd\n",
    "import matplotlib.pyplot as plt\n",
    "import seaborn as sns"
   ]
  },
  {
   "cell_type": "code",
   "execution_count": 15,
   "metadata": {},
   "outputs": [],
   "source": [
    "df = pd.read_csv(\"data_assign_p1.csv\")"
   ]
  },
  {
   "cell_type": "code",
   "execution_count": 18,
   "metadata": {
    "tags": []
   },
   "outputs": [
    {
     "output_type": "execute_result",
     "data": {
      "text/plain": "       obs   GDP_QGR\n0   1987Q2  2.740482\n1   1987Q3  2.027536\n2   1987Q4  0.798372\n3   1988Q1  0.990361\n4   1988Q2  0.339641\n..     ...       ...\n83  2008Q1  1.463090\n84  2008Q2  0.256876\n85  2008Q3  0.497846\n86  2008Q4 -0.311434\n87  2009Q1 -2.705085\n\n[88 rows x 2 columns]",
      "text/html": "<div>\n<style scoped>\n    .dataframe tbody tr th:only-of-type {\n        vertical-align: middle;\n    }\n\n    .dataframe tbody tr th {\n        vertical-align: top;\n    }\n\n    .dataframe thead th {\n        text-align: right;\n    }\n</style>\n<table border=\"1\" class=\"dataframe\">\n  <thead>\n    <tr style=\"text-align: right;\">\n      <th></th>\n      <th>obs</th>\n      <th>GDP_QGR</th>\n    </tr>\n  </thead>\n  <tbody>\n    <tr>\n      <th>0</th>\n      <td>1987Q2</td>\n      <td>2.740482</td>\n    </tr>\n    <tr>\n      <th>1</th>\n      <td>1987Q3</td>\n      <td>2.027536</td>\n    </tr>\n    <tr>\n      <th>2</th>\n      <td>1987Q4</td>\n      <td>0.798372</td>\n    </tr>\n    <tr>\n      <th>3</th>\n      <td>1988Q1</td>\n      <td>0.990361</td>\n    </tr>\n    <tr>\n      <th>4</th>\n      <td>1988Q2</td>\n      <td>0.339641</td>\n    </tr>\n    <tr>\n      <th>...</th>\n      <td>...</td>\n      <td>...</td>\n    </tr>\n    <tr>\n      <th>83</th>\n      <td>2008Q1</td>\n      <td>1.463090</td>\n    </tr>\n    <tr>\n      <th>84</th>\n      <td>2008Q2</td>\n      <td>0.256876</td>\n    </tr>\n    <tr>\n      <th>85</th>\n      <td>2008Q3</td>\n      <td>0.497846</td>\n    </tr>\n    <tr>\n      <th>86</th>\n      <td>2008Q4</td>\n      <td>-0.311434</td>\n    </tr>\n    <tr>\n      <th>87</th>\n      <td>2009Q1</td>\n      <td>-2.705085</td>\n    </tr>\n  </tbody>\n</table>\n<p>88 rows × 2 columns</p>\n</div>"
     },
     "metadata": {},
     "execution_count": 18
    }
   ],
   "source": [
    "df"
   ]
  },
  {
   "cell_type": "code",
   "execution_count": null,
   "metadata": {},
   "outputs": [],
   "source": []
  }
 ]
}